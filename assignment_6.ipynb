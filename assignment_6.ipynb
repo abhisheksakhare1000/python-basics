{
 "cells": [
  {
   "cell_type": "markdown",
   "id": "46dc0fce",
   "metadata": {},
   "source": [
    "1. What are escape characters, and how do you use them\n",
    "\n",
    "ans: It is used to insert characters that are illegal in a string, use an escape character.\n",
    "\n",
    "2. What do the escape characters n and t stand for?\n",
    "\n",
    "ans: \\n used for next line and \\t for tab (long space)\n",
    "\n",
    "3. What is the way to include backslash characters in a string?\n",
    "\n",
    "ans: \\ used for backslash\n",
    "\n",
    "4. The string \"Howl's Moving Castle\" is a correct value. Why isn't the single quote character in the word Howl's not escaped a problem?\n",
    "\n",
    "ans:  single quote in Howl's is fine becoz we have used double quote to indicate string\n",
    "\n",
    "5. How do you write a string of newlines if you don't want to use the n character?\n",
    "\n",
    "ans: Through Multiline strings is possible\n",
    "\n",
    "\n",
    "6. What are the values of the given expressions?\n",
    "\n",
    "'Hello, world!'[1]\n",
    "\n",
    "ans: e\n",
    "\n",
    "'Hello, world!'[0:5]\n",
    "\n",
    "ans:Hello\n",
    "\n",
    "'Hello, world!'[:5]\n",
    "\n",
    "ans: Hello\n",
    "\n",
    "'Hello, world!'[3:]\n",
    "\n",
    "ans: lo, world!"
   ]
  },
  {
   "cell_type": "markdown",
   "id": "272578c0",
   "metadata": {},
   "source": [
    "7. What are the values of the following expressions?\n",
    "\n",
    "'Hello'.upper()\n",
    "ans: HELLO\n",
    "\n",
    "\n",
    "'Hello'.upper().isupper()\n",
    "ans:\n",
    "True\n",
    "\n",
    "'Hello'.upper().lower()\n",
    "ans: hello\n",
    "\n",
    "8. What are the values of the following expressions?\n",
    "'Remember, remember, the fifth of July.'.split()\n",
    "ans: "
   ]
  },
  {
   "cell_type": "code",
   "execution_count": 3,
   "id": "76d8c1b3",
   "metadata": {},
   "outputs": [
    {
     "data": {
      "text/plain": [
       "['Remember,', 'remember,', 'the', 'fifth', 'of', 'July.']"
      ]
     },
     "execution_count": 3,
     "metadata": {},
     "output_type": "execute_result"
    }
   ],
   "source": [
    "'Remember, remember, the fifth of July.'.split()"
   ]
  },
  {
   "cell_type": "code",
   "execution_count": 4,
   "id": "11805ab7",
   "metadata": {},
   "outputs": [
    {
     "data": {
      "text/plain": [
       "'There-can-only-one.'"
      ]
     },
     "execution_count": 4,
     "metadata": {},
     "output_type": "execute_result"
    }
   ],
   "source": [
    "'-'.join('There can only one.'.split())"
   ]
  },
  {
   "cell_type": "markdown",
   "id": "5747696f",
   "metadata": {},
   "source": [
    "9. What are the methods for right-justifying, left-justifying, and centering a string?"
   ]
  },
  {
   "cell_type": "code",
   "execution_count": 12,
   "id": "223bb068",
   "metadata": {},
   "outputs": [],
   "source": [
    "my_string = \"Hello\"\n",
    "left = my_string.ljust(10)\n",
    "my_string = \"Hello\"\n",
    "right = my_string.rjust(10)\n",
    "my_string = \"Hello\"\n",
    "center = my_string.center(10)"
   ]
  },
  {
   "cell_type": "code",
   "execution_count": 9,
   "id": "d7f2d5aa",
   "metadata": {},
   "outputs": [
    {
     "data": {
      "text/plain": [
       "'Hello     '"
      ]
     },
     "execution_count": 9,
     "metadata": {},
     "output_type": "execute_result"
    }
   ],
   "source": [
    "left"
   ]
  },
  {
   "cell_type": "code",
   "execution_count": 13,
   "id": "3a6bf840",
   "metadata": {},
   "outputs": [
    {
     "data": {
      "text/plain": [
       "'     Hello'"
      ]
     },
     "execution_count": 13,
     "metadata": {},
     "output_type": "execute_result"
    }
   ],
   "source": [
    "right"
   ]
  },
  {
   "cell_type": "code",
   "execution_count": 14,
   "id": "bb49bb9d",
   "metadata": {},
   "outputs": [
    {
     "data": {
      "text/plain": [
       "'  Hello   '"
      ]
     },
     "execution_count": 14,
     "metadata": {},
     "output_type": "execute_result"
    }
   ],
   "source": [
    "center\n"
   ]
  },
  {
   "cell_type": "markdown",
   "id": "3cd97cd6",
   "metadata": {},
   "source": [
    "are use for adjusting string at left side , right side, and center as shown in code"
   ]
  },
  {
   "cell_type": "markdown",
   "id": "036a7c5f",
   "metadata": {},
   "source": [
    "10. What is the best way to remove whitespace characters from the start or end?\n",
    "ans: lstrip() and .rstrip() is used to remove white spaces in string"
   ]
  },
  {
   "cell_type": "code",
   "execution_count": 15,
   "id": "7c259156",
   "metadata": {},
   "outputs": [],
   "source": [
    "my_string = my_string.lstrip()"
   ]
  },
  {
   "cell_type": "code",
   "execution_count": null,
   "id": "7e380a55",
   "metadata": {},
   "outputs": [],
   "source": []
  },
  {
   "cell_type": "code",
   "execution_count": null,
   "id": "73cdd69b",
   "metadata": {},
   "outputs": [],
   "source": []
  }
 ],
 "metadata": {
  "kernelspec": {
   "display_name": "Python 3 (ipykernel)",
   "language": "python",
   "name": "python3"
  },
  "language_info": {
   "codemirror_mode": {
    "name": "ipython",
    "version": 3
   },
   "file_extension": ".py",
   "mimetype": "text/x-python",
   "name": "python",
   "nbconvert_exporter": "python",
   "pygments_lexer": "ipython3",
   "version": "3.9.12"
  }
 },
 "nbformat": 4,
 "nbformat_minor": 5
}

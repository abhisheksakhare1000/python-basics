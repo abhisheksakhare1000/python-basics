{
 "cells": [
  {
   "cell_type": "markdown",
   "id": "1beaf175",
   "metadata": {},
   "source": [
    "1. What exactly is []?\n",
    "Ans: it is list\n"
   ]
  },
  {
   "cell_type": "markdown",
   "id": "c24f2878",
   "metadata": {},
   "source": [
    "2. In a list of values stored in a variable called spam, how would you assign the value 'hello' as the third value? \n",
    "(Assume [2, 4, 6, 8, 10] are in spam.)"
   ]
  },
  {
   "cell_type": "code",
   "execution_count": 6,
   "id": "4208c96d",
   "metadata": {},
   "outputs": [
    {
     "data": {
      "text/plain": [
       "[2, 4, 'hello', 8, 10]"
      ]
     },
     "execution_count": 6,
     "metadata": {},
     "output_type": "execute_result"
    }
   ],
   "source": [
    "spam = [2,4,6,8,10]\n",
    "spam[2]=\"hello\"\n",
    "spam"
   ]
  },
  {
   "cell_type": "markdown",
   "id": "ee02db88",
   "metadata": {},
   "source": [
    "Let's pretend the spam includes the list ['a', 'b', 'c', 'd'] for the next three queries."
   ]
  },
  {
   "cell_type": "markdown",
   "id": "6a31e8f8",
   "metadata": {},
   "source": [
    "3. What is the value of spam[int(int('3' * 2) / 11)]?\n",
    "\n",
    "answer: 'd'\n",
    "\n",
    "4. What is the value of spam[-1]?\n",
    "\n",
    "answer: 'd'\n",
    "\n",
    "5. What is the value of spam[:2]?\n",
    "\n",
    "answer: 'a','b','c'"
   ]
  },
  {
   "cell_type": "markdown",
   "id": "a0747991",
   "metadata": {},
   "source": [
    "Let's pretend bacon has the list [3.14, 'cat,' 11, 'cat,' True] for the next three questions\n",
    "\n",
    "6. What is the value of bacon.index('cat')?\n",
    "\n",
    "ans: 1\n",
    "\n",
    "7. How does bacon.append(99) change the look of the list value in bacon?\n",
    "\n",
    "ans: [3.14, 'cat', 11, 'cat', True, 99] \n",
    "\n",
    "8. 8. How does bacon.remove('cat') change the look of the list in bacon?\n",
    "\n",
    "ans: [3.14, 11, 'cat', True, 99]"
   ]
  },
  {
   "cell_type": "markdown",
   "id": "d6e60c94",
   "metadata": {},
   "source": [
    "9. What are the list concatenation and list replication operators?\n",
    "\n",
    "ans: In list concatenation two list combined. ( + operator is used) for list replication * is used (eg. list = list * 2)\n",
    "\n",
    "10. What is difference between the list methods append() and insert()?\n",
    "\n",
    "ans: In append element is added at the end of list. in insert (syntax :list.insert(index, element) ) we can insert element in any particular position\n",
    "\n",
    "\n",
    "11. 11. What are the two methods for removing items from a list?\n",
    "\n",
    "ans: using list1.remove(element) functionn  and del function (syntax del list[idex] )\n",
    "\n",
    "\n",
    "12. Describe how list values and string values are identical.\n",
    "\n",
    "ans:string and list have indexes and we can do slices, concatenate, replicate\n",
    "\n",
    "\n",
    "13. What's the difference between tuples and lists?\n",
    "\n",
    "ans: uples are immutable as opposed to lists which are mutable.\n",
    "\n",
    "14. How do you type a tuple value that only contains the integer 42?\n",
    "\n",
    "ans tuple = (42)"
   ]
  },
  {
   "cell_type": "markdown",
   "id": "e91fad10",
   "metadata": {},
   "source": [
    "15. How do you get a list value's tuple form? How do you get a tuple value's list form?"
   ]
  },
  {
   "cell_type": "code",
   "execution_count": 36,
   "id": "a4f58c74",
   "metadata": {},
   "outputs": [
    {
     "data": {
      "text/plain": [
       "(3, 3, 3, 5, 3, 4)"
      ]
     },
     "execution_count": 36,
     "metadata": {},
     "output_type": "execute_result"
    }
   ],
   "source": [
    "my_list = [3,3,3,5,3,4]\n",
    "mylist = tuple(my_list)\n",
    "mylist"
   ]
  },
  {
   "cell_type": "code",
   "execution_count": 37,
   "id": "af460a3b",
   "metadata": {},
   "outputs": [
    {
     "data": {
      "text/plain": [
       "[3, 3, 5, 7, 8]"
      ]
     },
     "execution_count": 37,
     "metadata": {},
     "output_type": "execute_result"
    }
   ],
   "source": [
    "my_tuple = (3,3,5,7,8)\n",
    "my_tuple = list(my_tuple)\n",
    "my_tuple"
   ]
  },
  {
   "cell_type": "markdown",
   "id": "242bb942",
   "metadata": {},
   "source": [
    "16. Variables that \"contain\" list values are not necessarily lists themselves. Instead, what do they contain?\n",
    "\n",
    "ans:\n",
    "They contain references to list values.\n",
    "\n",
    "\n",
    "17. How do you distinguish between copy.copy() and copy.deepcopy()?\n",
    "\n",
    "ans:\n",
    "copy() create reference to original object. If you change copied object - you change the original object. . deepcopy() creates new object and does real copying of original object to new one"
   ]
  },
  {
   "cell_type": "code",
   "execution_count": null,
   "id": "e47a938f",
   "metadata": {},
   "outputs": [],
   "source": []
  }
 ],
 "metadata": {
  "kernelspec": {
   "display_name": "Python 3 (ipykernel)",
   "language": "python",
   "name": "python3"
  },
  "language_info": {
   "codemirror_mode": {
    "name": "ipython",
    "version": 3
   },
   "file_extension": ".py",
   "mimetype": "text/x-python",
   "name": "python",
   "nbconvert_exporter": "python",
   "pygments_lexer": "ipython3",
   "version": "3.9.12"
  }
 },
 "nbformat": 4,
 "nbformat_minor": 5
}
